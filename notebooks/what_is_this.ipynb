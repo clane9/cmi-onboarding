{
 "cells": [
  {
   "cell_type": "markdown",
   "metadata": {},
   "source": [
    "# 1. What is this?\n",
    "\n",
    "The objective is to use context clues, file metadata, and deep interrogation to identify the broad array of components of an imaging dataset, their structures, uses, and their derivatives. In some cases information can be found by simply looking at file names in a directory, in others, it will require identifying the proper tools for extracting metadata from binary file formats.\n",
    "\n",
    "Using a unix terminal (not file explorer), crawl through a...\n",
    "\n",
    "* BIDS Input Directory\n",
    "* C-PAC Minimal Preprocessed Output Directory\n",
    "  \n",
    "... to determine, for each file, the...\n",
    "\n",
    "* **Contents**. The level of detail should indicate understanding rather than be exhaustive. We do not need to see every bit of every file, rather, a conceptual description of their contents.\n",
    "* **Purpose**. For example, what is its role in analysis or what information does it uniquely provide?\n",
    "* **Relationship(s) to other files**.\n"
   ]
  },
  {
   "cell_type": "markdown",
   "metadata": {},
   "source": [
    "## Setup\n",
    "\n",
    "For this challenge I'm using a Jupyter notebook with the [bash kernel](https://github.com/takluyver/bash_kernel) to record my steps and take notes. (I'm using the bash kernel rather than a python kernel since this is supposed to be a command line exercise.)\n",
    "\n",
    "Before starting the challenge, I downloaded the file bundle from [here](https://osf.io/syqvc/files/osfstorage) and unzipped the data archives using `unzip`.\n",
    "\n",
    "I'll store any intermediate outputs in a local directory, relative to the challenge root directory."
   ]
  },
  {
   "cell_type": "code",
   "execution_count": 1,
   "metadata": {},
   "outputs": [
    {
     "name": "stdout",
     "output_type": "stream",
     "text": [
      "total 16\n",
      "drwxr-xr-x  4 clane  staff   128B Oct  4 16:26 notebooks\n",
      "drwxr-xr-x  9 clane  staff   288B Oct  4 15:41 outputs\n",
      "-rw-r--r--  1 clane  staff   396B Oct  4 09:51 comments.md\n",
      "drwxr-xr-x  6 clane  staff   192B Oct  3 09:49 data\n",
      "-rw-r--r--  1 clane  staff   228B Oct  3 09:13 README.md\n"
     ]
    }
   ],
   "source": [
    "root=\"/Users/clane/Projects/CMI-Onboarding\"\n",
    "\n",
    "ls -lht $root"
   ]
  },
  {
   "cell_type": "code",
   "execution_count": 2,
   "metadata": {},
   "outputs": [
    {
     "name": "stdout",
     "output_type": "stream",
     "text": [
      "output dir: /Users/clane/Projects/CMI-Onboarding/outputs\n"
     ]
    }
   ],
   "source": [
    "outdir=\"${root}/outputs\"\n",
    "\n",
    "if [[ ! -d $outdir ]]; then\n",
    "    mkdir $outdir\n",
    "fi\n",
    "\n",
    "echo \"output dir:\" $outdir"
   ]
  },
  {
   "cell_type": "markdown",
   "metadata": {},
   "source": [
    "## Overview\n",
    "\n",
    "Let's start by seeing what was included in the challenge file bundle. I'm using the Unix `tree` tool to get an overview of all the contents."
   ]
  },
  {
   "cell_type": "code",
   "execution_count": 3,
   "metadata": {},
   "outputs": [],
   "source": [
    "cd ${root}/data"
   ]
  },
  {
   "cell_type": "code",
   "execution_count": 4,
   "metadata": {},
   "outputs": [
    {
     "name": "stdout",
     "output_type": "stream",
     "text": [
      ".\n",
      "├── C-PAC_Derivatives\n",
      "│   ├── abcd-options\n",
      "│   │   └── sub-NDARAD481FXF_ses-1\n",
      "│   │       └── Derivatives\n",
      "│   │           ├── anat  [96 entries exceeds filelimit, not opening dir]\n",
      "│   │           └── func  [32 entries exceeds filelimit, not opening dir]\n",
      "│   └── preproc\n",
      "│       ├── cpac_data_config_idx-14_2022-08-25T15-15-35Z.yml\n",
      "│       ├── cpac_pipeline_config_2022-08-25T15-15-35Z.yml\n",
      "│       ├── cpac_pipeline_config_2022-08-25T15-15-35Z_min.yml\n",
      "│       ├── log\n",
      "│       │   ├── cpac_individual_timing_cpac_preproc.csv\n",
      "│       │   └── pipeline_cpac_preproc\n",
      "│       │       └── sub-0025429_ses-1\n",
      "│       │           ├── callback.log\n",
      "│       │           ├── callback.log.html\n",
      "│       │           ├── callback.log.resource_overusage.txt\n",
      "│       │           ├── pypeline.log\n",
      "│       │           ├── sub-0025429_ses-1_expectedOutputs.yml\n",
      "│       │           └── subject_info_sub-0025429_ses-1.pkl\n",
      "│       ├── output\n",
      "│       │   └── cpac_cpac_preproc\n",
      "│       │       └── sub-0025429_ses-1\n",
      "│       │           ├── anat  [40 entries exceeds filelimit, not opening dir]\n",
      "│       │           └── func  [58 entries exceeds filelimit, not opening dir]\n",
      "│       └── working\n",
      "│           ├── cpac_sub-0025429_ses-1  [141 entries exceeds filelimit, not opening dir]\n",
      "│           └── fcp-indi\n",
      "│               └── data\n",
      "│                   └── Projects\n",
      "│                       └── CORR\n",
      "│                           └── RawDataBIDS\n",
      "│                               └── HNU_1\n",
      "│                                   └── sub-0025429\n",
      "│                                       └── ses-1\n",
      "│                                           ├── anat\n",
      "│                                           │   └── sub-0025429_ses-1_run-1_T1w.nii.gz\n",
      "│                                           └── func\n",
      "│                                               └── sub-0025429_ses-1_task-rest_run-1_bold.nii.gz\n",
      "├── Raw_Data\n",
      "│   ├── HNU_1\n",
      "│   │   └── sub-0025429\n",
      "│   │       └── ses-1\n",
      "│   │           ├── anat\n",
      "│   │           │   └── sub-0025429_ses-1_run-1_T1w.nii.gz\n",
      "│   │           └── func\n",
      "│   │               └── sub-0025429_ses-1_task-rest_run-1_bold.nii.gz\n",
      "│   └── Site-SI\n",
      "│       └── sub-NDARAD481FXF\n",
      "│           ├── anat\n",
      "│           │   └── sub-NDARAD481FXF_T1w.nii.gz\n",
      "│           ├── fmap\n",
      "│           │   ├── sub-NDARAD481FXF_magnitude1.json\n",
      "│           │   ├── sub-NDARAD481FXF_magnitude1.nii.gz\n",
      "│           │   ├── sub-NDARAD481FXF_magnitude2.json\n",
      "│           │   ├── sub-NDARAD481FXF_magnitude2.nii.gz\n",
      "│           │   ├── sub-NDARAD481FXF_phasediff.json\n",
      "│           │   └── sub-NDARAD481FXF_phasediff.nii.gz\n",
      "│           └── func\n",
      "│               ├── sub-NDARAD481FXF_task-rest_bold.json\n",
      "│               └── sub-NDARAD481FXF_task-rest_bold.nii.gz\n",
      "└── osfstorage-archive.zip\n",
      "\n",
      "38 directories, 24 files\n"
     ]
    },
    {
     "ename": "",
     "evalue": "2",
     "output_type": "error",
     "traceback": []
    }
   ],
   "source": [
    "tree --filelimit 10"
   ]
  },
  {
   "cell_type": "markdown",
   "metadata": {},
   "source": [
    "## Raw data inspection\n",
    "\n",
    "At a high level, we have two directories `Raw_Data` and `C-PAC_Derivatives`.\n",
    "\n",
    "`Raw_Data` seems to contain (unsurprisingly) raw data for two MRI subjects in [Brain Imaging Data Structure (BIDS) format](https://bids-specification.readthedocs.io/en/stable/).\n",
    "\n",
    "The two subjects belong to two different studies (or possibly two sites within the same study): `HNU_1` and `Site-SI`.\n",
    "\n",
    "After a bit of googling, I found [this reference](http://fcon_1000.projects.nitrc.org/indi/CoRR/html/hnu_1.html) to the Hangzhou Normal University (HNU_1) dataset, which contains a subject 0025429.\n",
    "Likewise, I found [this reference](http://fcon_1000.projects.nitrc.org/indi/cmi_healthy_brain_network/downloads/downloads_MRI_R1_1.html) via [here](http://fcon_1000.projects.nitrc.org/indi/cmi_healthy_brain_network/) to the Healthy Brain Network R1 release, which contains a subject NDARAD481FXF tested at the Staten Island (SI) site.\n",
    "\n",
    "Based on file names and the BIDS conventions, we can tell that each subject directory contains a T1-weighted structural MR image (`anat/*_T1w.nii.gz`) and one BOLD resting state run (`func/*_task-rest_bold.nii.gz`), each in gzipped Nifti format.\n",
    "\n",
    "We can look more into the files using the Freesurfer utility `mri_info`, which reads the Nifti file header"
   ]
  },
  {
   "cell_type": "markdown",
   "metadata": {},
   "source": [
    "### Structural\n",
    "\n",
    "The structural images each have (X, Y, Z) dimensions (176, 256, 256) with approximately 1mm^3 isotropic voxels. The data are 32 bit floating point values."
   ]
  },
  {
   "cell_type": "code",
   "execution_count": null,
   "metadata": {},
   "outputs": [],
   "source": [
    "mri_info Raw_Data/HNU_1/sub-0025429/ses-1/anat/sub-0025429_ses-1_run-1_T1w.nii.gz | head -n 14"
   ]
  },
  {
   "cell_type": "code",
   "execution_count": 5,
   "metadata": {},
   "outputs": [
    {
     "name": "stdout",
     "output_type": "stream",
     "text": [
      "Volume information for Raw_Data/Site-SI/sub-NDARAD481FXF/anat/sub-NDARAD481FXF_T1w.nii.gz\n",
      "          type: nii\n",
      "    dimensions: 176 x 256 x 256\n",
      "   voxel sizes: 0.999977, 1.000000, 1.000000\n",
      "          type: FLOAT (3)\n",
      "           fov: 175.996\n",
      "           dof: 1\n",
      "        xstart: -88.0, xend: 88.0\n",
      "        ystart: -128.0, yend: 128.0\n",
      "        zstart: -128.0, zend: 128.0\n",
      "            TR: 0.00 msec, TE: 0.00 msec, TI: 0.00 msec, flip angle: 0.00 degrees\n",
      "       nframes: 1\n",
      "       PhEncDir: UNKNOWN\n",
      "       FieldStrength: 0.000000\n"
     ]
    }
   ],
   "source": [
    "mri_info Raw_Data/Site-SI/sub-NDARAD481FXF/anat/sub-NDARAD481FXF_T1w.nii.gz | head -n 14"
   ]
  },
  {
   "cell_type": "markdown",
   "metadata": {},
   "source": [
    "### Functional\n",
    "\n",
    "The functional volume series for `HNU_1/sub-0025429` has (X, Y, Z, T) dimension (64, 64, 43, 300) with approximately 3.4mm^3 isotropic voxels and a 2 sec TR.\n",
    "\n",
    "The series for `Site-SI/sub-NDARAD481FXF` is longer and higher resolution. The dimensions are (78, 78, 54, 420) with approximately 2.5mm^3 voxels and a 1.45 sec TR.\n",
    "\n",
    "The data in both images are 16 bit signed integer (short) values."
   ]
  },
  {
   "cell_type": "code",
   "execution_count": 6,
   "metadata": {},
   "outputs": [
    {
     "name": "stdout",
     "output_type": "stream",
     "text": [
      "Volume information for Raw_Data/HNU_1/sub-0025429/ses-1/func/sub-0025429_ses-1_task-rest_run-1_bold.nii.gz\n",
      "          type: nii\n",
      "    dimensions: 64 x 64 x 43 x 300\n",
      "   voxel sizes: 3.437500, 3.437500, 3.400000\n",
      "          type: SHORT (4)\n",
      "           fov: 220.000\n",
      "           dof: 1\n",
      "        xstart: -110.0, xend: 110.0\n",
      "        ystart: -110.0, yend: 110.0\n",
      "        zstart: -73.1, zend: 73.1\n",
      "            TR: 2000.00 msec, TE: 0.00 msec, TI: 0.00 msec, flip angle: 0.00 degrees\n",
      "       nframes: 300\n",
      "       PhEncDir: UNKNOWN\n",
      "       FieldStrength: 0.000000\n"
     ]
    }
   ],
   "source": [
    "mri_info Raw_Data/HNU_1/sub-0025429/ses-1/func/sub-0025429_ses-1_task-rest_run-1_bold.nii.gz | head -n 14"
   ]
  },
  {
   "cell_type": "code",
   "execution_count": 7,
   "metadata": {},
   "outputs": [
    {
     "name": "stdout",
     "output_type": "stream",
     "text": [
      "Volume information for Raw_Data/Site-SI/sub-NDARAD481FXF/func/sub-NDARAD481FXF_task-rest_bold.nii.gz\n",
      "          type: nii\n",
      "    dimensions: 78 x 78 x 54 x 420\n",
      "   voxel sizes: 2.461539, 2.461539, 2.500000\n",
      "          type: SHORT (4)\n",
      "           fov: 192.000\n",
      "           dof: 1\n",
      "        xstart: -96.0, xend: 96.0\n",
      "        ystart: -96.0, yend: 96.0\n",
      "        zstart: -67.5, zend: 67.5\n",
      "            TR: 1450.00 msec, TE: 0.00 msec, TI: 0.00 msec, flip angle: 0.00 degrees\n",
      "       nframes: 420\n",
      "       PhEncDir: UNKNOWN\n",
      "       FieldStrength: 0.000000\n"
     ]
    }
   ],
   "source": [
    "mri_info Raw_Data/Site-SI/sub-NDARAD481FXF/func/sub-NDARAD481FXF_task-rest_bold.nii.gz | head -n 14"
   ]
  },
  {
   "cell_type": "markdown",
   "metadata": {},
   "source": [
    "We can report the min, max, and mean values of each series using the FSL utility `fslstats`."
   ]
  },
  {
   "cell_type": "code",
   "execution_count": 8,
   "metadata": {},
   "outputs": [
    {
     "name": "stdout",
     "output_type": "stream",
     "text": [
      "0.000000 3364.000000 349.502490 \n"
     ]
    }
   ],
   "source": [
    "fslstats Raw_Data/HNU_1/sub-0025429/ses-1/func/sub-0025429_ses-1_task-rest_run-1_bold.nii.gz -R -m"
   ]
  },
  {
   "cell_type": "code",
   "execution_count": 9,
   "metadata": {},
   "outputs": [
    {
     "name": "stdout",
     "output_type": "stream",
     "text": [
      "0.000000 2293.000000 216.797673 \n"
     ]
    }
   ],
   "source": [
    "fslstats Raw_Data/Site-SI/sub-NDARAD481FXF/func/sub-NDARAD481FXF_task-rest_bold.nii.gz -R -m"
   ]
  },
  {
   "cell_type": "markdown",
   "metadata": {},
   "source": [
    "Finally, we can visualize the raw functional data using the FSL `slices` utility."
   ]
  },
  {
   "cell_type": "code",
   "execution_count": 10,
   "metadata": {},
   "outputs": [
    {
     "name": "stdout",
     "output_type": "stream",
     "text": [
      "Warning: An input intended to be a single 3D volume has multiple timepoints. Input will be truncated to first volume, but this functionality is deprecated and will be removed in a future release.\n",
      "Warning: An input intended to be a single 3D volume has multiple timepoints. Input will be truncated to first volume, but this functionality is deprecated and will be removed in a future release.\n"
     ]
    }
   ],
   "source": [
    "slices \\\n",
    "    Raw_Data/HNU_1/sub-0025429/ses-1/func/sub-0025429_ses-1_task-rest_run-1_bold.nii.gz \\\n",
    "    -o ${outdir}/sub-0025429_ses-1_task-rest_run-1_bold_slices.gif\n",
    "\n",
    "slices \\\n",
    "    Raw_Data/Site-SI/sub-NDARAD481FXF/func/sub-NDARAD481FXF_task-rest_bold.nii.gz \\\n",
    "    -o ${outdir}/sub-NDARAD481FXF_task-rest_bold_slices.gif"
   ]
  },
  {
   "cell_type": "markdown",
   "metadata": {},
   "source": [
    "**sub-0025429_ses-1_task-rest_run-1_bold_slices**\n",
    "\n",
    "![sub-0025429_ses-1_task-rest_run-1_bold_slices](../outputs/sub-0025429_ses-1_task-rest_run-1_bold_slices.gif)\n",
    "\n",
    "**sub-NDARAD481FXF_task-rest_bold_slices**\n",
    "\n",
    "![sub-NDARAD481FXF_task-rest_bold_slices](../outputs/sub-NDARAD481FXF_task-rest_bold_slices.gif)\n",
    "\n",
    "Note that the second image is larger. This is due to the higher resolution acquisition."
   ]
  },
  {
   "cell_type": "markdown",
   "metadata": {},
   "source": [
    "### Functional metadata\n",
    "\n",
    "In addition to the functional volume series, `sub-NDARAD481FXF/func` contains a JSON file with metadata for the run. The metadata lists the scanner manufacturer, sequence parameters, type of head coil used, slice timing parameters, etc."
   ]
  },
  {
   "cell_type": "code",
   "execution_count": 11,
   "metadata": {
    "tags": []
   },
   "outputs": [
    {
     "name": "stdout",
     "output_type": "stream",
     "text": [
      "{\n",
      "    \"InPlanePhaseEncodingDirectionDICOM\": \"COL\", \n",
      "    \"ImageComments\": \"Unaliased_MB3_PE3\", \n",
      "    \"ProcedureStepDescription\": \"CMI_HBN\", \n",
      "    \"DeviceSerialNumber\": \"26121\", \n",
      "    \"AcquisitionMatrixPE\": 78, \n",
      "    \"ImageOrientationPatientDICOM\": [\n",
      "        1, \n",
      "        0, \n",
      "        0, \n",
      "        0, \n",
      "        0.96363, \n",
      "        -0.267238\n",
      "    ], \n",
      "    \"EffectiveEchoSpacing\": 0.000550001, \n",
      "    \"TotalReadoutTime\": 0.04235, \n",
      "    \"ManufacturersModelName\": \"Avanto\", \n",
      "    \"ProtocolName\": \"Resting_State_2.5mm\", \n",
      "    \"BandwidthPerPixelPhaseEncode\": 23.31, \n",
      "    \"RepetitionTime\": 1.45, \n",
      "    \"MagneticFieldStrength\": 1.5, \n",
      "    \"PhaseEncodingSteps\": 78, \n",
      "    \"MRAcquisitionType\": \"2D\", \n",
      "    \"SliceThickness\": 2.5, \n",
      "    \"DwellTime\": 2.7e-06, \n",
      "    \"TxRefAmp\": 244.945, \n",
      "    \"MultibandAccelerationFactor\": 3, \n",
      "    \"DerivedVendorReportedEchoSpacing\": 0.000550001, \n",
      "    \"SAR\": 0.0384271, \n",
      "    \"PixelBandwidth\": 2374, \n",
      "    \"ScanningSequence\": \"EP\", \n",
      "    \"Manufacturer\": \"Siemens\", \n",
      "    \"ConversionSoftware\": \"dcm2niix\", \n",
      "    \"PercentPhaseFOV\": 100, \n",
      "    \"ReconMatrixPE\": 78, \n",
      "    \"FlipAngle\": 55, \n",
      "    \"SeriesDescription\": \"Resting_State_2.5mm\", \n",
      "    \"PartialFourier\": 1, \n",
      "    \"ConversionSoftwareVersion\": \"v1.0.20171204 (OpenJPEG build) GCC4.8.4\", \n",
      "    \"ShimSetting\": [\n",
      "        185, \n",
      "        -160, \n",
      "        459, \n",
      "        892, \n",
      "        597, \n",
      "        74, \n",
      "        188, \n",
      "        302\n",
      "    ], \n",
      "    \"PulseSequenceDetails\": \"%CustomerSeq%_cmrr_mbep2d_bold\", \n",
      "    \"PatientPosition\": \"HFS\", \n",
      "    \"SequenceName\": \"epfid2d1_78\", \n",
      "    \"ReceiveCoilName\": \"32Ch_Head\", \n",
      "    \"TaskName\": \"Resting\", \n",
      "    \"SpacingBetweenSlices\": 2.5, \n",
      "    \"ImageType\": [\n",
      "        \"ORIGINAL\", \n",
      "        \"PRIMARY\", \n",
      "        \"M\", \n",
      "        \"MB\", \n",
      "        \"ND\", \n",
      "        \"MOSAIC\"\n",
      "    ], \n",
      "    \"EchoTime\": 0.04, \n",
      "    \"SequenceVariant\": \"SK_SS\", \n",
      "    \"SliceTiming\": [\n",
      "        0, \n",
      "        1.05, \n",
      "        0.6475, \n",
      "        0.2425, \n",
      "        1.2925, \n",
      "        0.89, \n",
      "        0.485, \n",
      "        0.08, \n",
      "        1.1325, \n",
      "        0.7275, \n",
      "        0.3225, \n",
      "        1.375, \n",
      "        0.97, \n",
      "        0.565, \n",
      "        0.1625, \n",
      "        1.2125, \n",
      "        0.8075, \n",
      "        0.405, \n",
      "        0, \n",
      "        1.05, \n",
      "        0.6475, \n",
      "        0.2425, \n",
      "        1.2925, \n",
      "        0.89, \n",
      "        0.485, \n",
      "        0.08, \n",
      "        1.1325, \n",
      "        0.7275, \n",
      "        0.3225, \n",
      "        1.375, \n",
      "        0.97, \n",
      "        0.565, \n",
      "        0.1625, \n",
      "        1.2125, \n",
      "        0.8075, \n",
      "        0.405, \n",
      "        0, \n",
      "        1.05, \n",
      "        0.6475, \n",
      "        0.2425, \n",
      "        1.2925, \n",
      "        0.89, \n",
      "        0.485, \n",
      "        0.08, \n",
      "        1.1325, \n",
      "        0.7275, \n",
      "        0.3225, \n",
      "        1.375, \n",
      "        0.97, \n",
      "        0.565, \n",
      "        0.1625, \n",
      "        1.2125, \n",
      "        0.8075, \n",
      "        0.405\n",
      "    ], \n",
      "    \"PhaseResolution\": 1, \n",
      "    \"BaseResolution\": 78, \n",
      "    \"PhaseEncodingDirection\": \"j-\", \n",
      "    \"ScanOptions\": \"FS\", \n",
      "    \"SoftwareVersions\": \"syngo_MR_B17\", \n",
      "    \"StationName\": \"MRC26121\", \n",
      "    \"Modality\": \"MR\"\n",
      "}"
     ]
    }
   ],
   "source": [
    "cat Raw_Data/Site-SI/sub-NDARAD481FXF/func/sub-NDARAD481FXF_task-rest_bold.json"
   ]
  },
  {
   "cell_type": "markdown",
   "metadata": {},
   "source": [
    "### Fieldmap"
   ]
  },
  {
   "cell_type": "markdown",
   "metadata": {},
   "source": [
    "Subject `/sub-NDARAD481FXF` also contains an `fmap` directory containing images that can be used to construct a [field map](https://lcni.uoregon.edu/kb-articles/kb-0003).\n",
    "\n",
    "In turn, the field map can be used to correct for inhomogeneities in the primary (B0) magnetic field, which cause signal dropout and displacement. (Note that lost signal cannot be recovered. But displaced signal can be somewhat \"put back\", and correcting distortion can improve functional -> structural registration.)\n",
    "\n",
    "Some details on how field map data are represented in BIDS are available [here](https://bids-specification.readthedocs.io/en/stable/04-modality-specific-files/01-magnetic-resonance-imaging-data.html#fieldmap-data)"
   ]
  },
  {
   "cell_type": "code",
   "execution_count": 12,
   "metadata": {},
   "outputs": [
    {
     "name": "stdout",
     "output_type": "stream",
     "text": [
      "total 1440\n",
      "-rw-r--r--@ 1 clane  staff   1.6K Aug 19 16:44 sub-NDARAD481FXF_magnitude2.json\n",
      "-rw-r--r--@ 1 clane  staff   215K Aug 19 16:44 sub-NDARAD481FXF_magnitude2.nii.gz\n",
      "-rw-r--r--@ 1 clane  staff   267K Aug 19 16:44 sub-NDARAD481FXF_phasediff.nii.gz\n",
      "-rw-r--r--@ 1 clane  staff   1.6K Aug 19 16:44 sub-NDARAD481FXF_magnitude1.json\n",
      "-rw-r--r--@ 1 clane  staff   223K Aug 19 16:44 sub-NDARAD481FXF_magnitude1.nii.gz\n",
      "-rw-r--r--@ 1 clane  staff   1.6K Aug 19 16:44 sub-NDARAD481FXF_phasediff.json\n"
     ]
    }
   ],
   "source": [
    "ls -lht Raw_Data/Site-SI/sub-NDARAD481FXF/fmap"
   ]
  },
  {
   "cell_type": "markdown",
   "metadata": {},
   "source": [
    "We can look at the field map images as well using `slices`."
   ]
  },
  {
   "cell_type": "code",
   "execution_count": 13,
   "metadata": {},
   "outputs": [],
   "source": [
    "for f in Raw_Data/Site-SI/sub-NDARAD481FXF/fmap/*.nii.gz; do\n",
    "    # get basename of form sub-NDARAD481FXF_magnitude1\n",
    "    basename=${f##*/}\n",
    "    basename=${basename%.nii.gz}\n",
    "    slices $f -o ${outdir}/${basename}_slices.gif\n",
    "done"
   ]
  },
  {
   "cell_type": "markdown",
   "metadata": {},
   "source": [
    "| **sub-NDARAD481FXF_magnitude1** | **sub-NDARAD481FXF_magnitude2** | **sub-NDARAD481FXF_phasediff** |\n",
    "| --- | --- | --- |\n",
    "| ![sub-NDARAD481FXF_magnitude1_slices](../outputs/sub-NDARAD481FXF_magnitude1_slices.gif) | ![sub-NDARAD481FXF_magnitude2_slices](../outputs/sub-NDARAD481FXF_magnitude2_slices.gif) | ![sub-NDARAD481FXF_phasediff_slices](../outputs/sub-NDARAD481FXF_phasediff_slices.gif) |"
   ]
  },
  {
   "cell_type": "markdown",
   "metadata": {},
   "source": [
    "The first two images are \"magnitude\" images.\n",
    "\n",
    "The image on the right is the \"phase difference\" image. Note the bright values near the frontal sinuses and in the anterior temporal lobes. These areas typically suffer the most fMRI signal dropout.\n",
    "\n",
    "> **TODO**: review what exactly the magnitude and phasediff images are, and how they're used to correct distortion."
   ]
  },
  {
   "cell_type": "markdown",
   "metadata": {},
   "source": [
    "## C-PAC Derivatives\n",
    "\n",
    "Now I'll look at the `C-PAC_Derivatives` directory."
   ]
  },
  {
   "cell_type": "code",
   "execution_count": 14,
   "metadata": {},
   "outputs": [
    {
     "name": "stdout",
     "output_type": "stream",
     "text": [
      "C-PAC_Derivatives\n",
      "├── abcd-options\n",
      "│   └── sub-NDARAD481FXF_ses-1\n",
      "│       └── Derivatives\n",
      "└── preproc\n",
      "    ├── cpac_data_config_idx-14_2022-08-25T15-15-35Z.yml\n",
      "    ├── cpac_pipeline_config_2022-08-25T15-15-35Z.yml\n",
      "    ├── cpac_pipeline_config_2022-08-25T15-15-35Z_min.yml\n",
      "    ├── log\n",
      "    │   ├── cpac_individual_timing_cpac_preproc.csv\n",
      "    │   └── pipeline_cpac_preproc\n",
      "    ├── output\n",
      "    │   └── cpac_cpac_preproc\n",
      "    └── working\n",
      "        ├── cpac_sub-0025429_ses-1\n",
      "        └── fcp-indi\n",
      "\n",
      "11 directories, 4 files\n"
     ]
    }
   ],
   "source": [
    "tree -L 3 C-PAC_Derivatives"
   ]
  },
  {
   "cell_type": "markdown",
   "metadata": {},
   "source": [
    "I'll start with the `preproc` subdirectory, which follows the [C-PAC output directory format](https://fcp-indi.github.io/docs/latest/user/output_dir)"
   ]
  },
  {
   "cell_type": "markdown",
   "metadata": {},
   "source": [
    "### Configs"
   ]
  },
  {
   "cell_type": "markdown",
   "metadata": {},
   "source": [
    "#### Data config\n",
    "\n",
    "The file `cpac_data_config_idx-14_2022-08-25T15-15-35Z.yml` is a [CPAC data configuration YAML file](https://fcp-indi.github.io/docs/latest/user/subject_list_config). It contains paths to the original raw data on [AWS S3](https://registry.opendata.aws/fcp-indi/), details on scanning parameters, etc.\n",
    "\n",
    "\n",
    "(Nb: I got the `head` + `tail` command from [here](https://stackoverflow.com/a/8624829))"
   ]
  },
  {
   "cell_type": "code",
   "execution_count": 15,
   "metadata": {},
   "outputs": [
    {
     "name": "stdout",
     "output_type": "stream",
     "text": [
      "- anat: s3://fcp-indi/data/Projects/CORR/RawDataBIDS/HNU_1/sub-0025429/ses-1/anat/sub-0025429_ses-1_run-1_T1w.nii.gz\n",
      "  creds_path: null\n",
      "  func:\n",
      "    rest_run-1:\n",
      "      scan: s3://fcp-indi/data/Projects/CORR/RawDataBIDS/HNU_1/sub-0025429/ses-1/func/sub-0025429_ses-1_task-rest_run-1_bold.nii.gz\n",
      "      scan_parameters:\n",
      "        AcquisitionDuration: '10:00'\n",
      "        AcquisitionMatrix: 64x64\n",
      "        EchoTime: 0.03\n",
      "        FieldofViewDimensions: 220x220\n",
      "        FieldofViewShape: Rectangle\n",
      "        FlipAngle: 90\n",
      "        Instructions: '''Relax and remain still with your eyes open. Do not fall asleep\n",
      "          and do not think about anything in particular.'''\n",
      "        MagneicFieldSrengh: 3\n",
      "...\n",
      "  site_id: HNU_1\n",
      "  subject_id: sub-0025429\n",
      "  unique_id: ses-1\n"
     ]
    }
   ],
   "source": [
    "(head -n 15; echo \"...\"; tail -n 3) < C-PAC_Derivatives/preproc/cpac_data_config_idx-14_2022-08-25T15-15-35Z.yml"
   ]
  },
  {
   "cell_type": "markdown",
   "metadata": {},
   "source": [
    "#### Pipeline config\n",
    "\n",
    "The file `cpac_pipeline_config_2022-08-25T15-15-35Z_min.yml` is a CPAC pipeline config file. The config should be for the default [\"preproc\"](https://fcp-indi.github.io/docs/latest/user/pipelines/preconfig#preproc-default-without-derivatives) pipeline, based on the directory naming. The \"preproc\" pipeline follows the same pre-processing steps as the default pipeline, but leaves out computation of [derivatives](https://fcp-indi.github.io/docs/latest/user/pipelines/derivatives) such as Voxel-mirrored Homotopic Connectivity (VMHC) and network centrality.\n",
    "\n",
    "> **TODO**: What are these derivatives?\n",
    "\n",
    "We can check that the config is as we expect by downloading the base preproc config for the latest release and comparing the two files. We'll use `git diff` to get a nice diff output."
   ]
  },
  {
   "cell_type": "code",
   "execution_count": 16,
   "metadata": {},
   "outputs": [
    {
     "name": "stdout",
     "output_type": "stream",
     "text": [
      "--2022-10-04 16:27:09--  https://raw.githubusercontent.com/FCP-INDI/C-PAC/9453398fefcdc83bea2b82727c52b5d140a69989/CPAC/resources/configs/pipeline_config_preproc.yml\n",
      "Resolving raw.githubusercontent.com (raw.githubusercontent.com)... 185.199.109.133, 185.199.110.133, 185.199.111.133, ...\n",
      "Connecting to raw.githubusercontent.com (raw.githubusercontent.com)|185.199.109.133|:443... connected.\n",
      "HTTP request sent, awaiting response... 200 OK\n",
      "Length: 7620 (7.4K) [text/plain]\n",
      "Saving to: ‘/Users/clane/Projects/CMI-Onboarding/outputs/pipeline_config_preproc.yml’\n",
      "\n",
      "pipeline_config_pre 100%[===================>]   7.44K  --.-KB/s    in 0s      \n",
      "\n",
      "2022-10-04 16:27:09 (20.4 MB/s) - ‘/Users/clane/Projects/CMI-Onboarding/outputs/pipeline_config_preproc.yml’ saved [7620/7620]\n",
      "\n"
     ]
    }
   ],
   "source": [
    "rm ${outdir}/pipeline_config_preproc.yml* 2>/dev/null\n",
    "\n",
    "wget -P ${outdir}/ \\\n",
    "    https://raw.githubusercontent.com/FCP-INDI/C-PAC/9453398fefcdc83bea2b82727c52b5d140a69989/CPAC/resources/configs/pipeline_config_preproc.yml"
   ]
  },
  {
   "cell_type": "code",
   "execution_count": 17,
   "metadata": {
    "tags": []
   },
   "outputs": [
    {
     "name": "stdout",
     "output_type": "stream",
     "text": [
      "\u001b[1mdiff --git a/Users/clane/Projects/CMI-Onboarding/outputs/pipeline_config_preproc.yml b/C-PAC_Derivatives/preproc/cpac_pipeline_config_2022-08-25T15-15-35Z_min.yml\u001b[m\n",
      "\u001b[1mindex 9a465d2..b46253a 100644\u001b[m\n",
      "\u001b[1m--- a/Users/clane/Projects/CMI-Onboarding/outputs/pipeline_config_preproc.yml\u001b[m\n",
      "\u001b[1m+++ b/C-PAC_Derivatives/preproc/cpac_pipeline_config_2022-08-25T15-15-35Z_min.yml\u001b[m\n",
      "\u001b[36m@@ -1,7 +1,7 @@\u001b[m\n",
      " %YAML 1.1\u001b[m\n",
      " ---\u001b[m\n",
      " # CPAC Pipeline Configuration YAML file\u001b[m\n",
      "\u001b[31m-# Version 1.8.4\u001b[m\n",
      "\u001b[32m+\u001b[m\u001b[32m# Version 1.8.4.dev\u001b[m\n",
      " #\u001b[m\n",
      " # http://fcp-indi.github.io for more info.\u001b[m\n",
      " #\u001b[m\n",
      "\u001b[36m@@ -9,21 +9,47 @@\u001b[m\n",
      " \u001b[m\n",
      " FROM: default\u001b[m\n",
      " \u001b[m\n",
      "\u001b[31m-\u001b[m\n",
      " pipeline_setup: \u001b[m\n",
      "\u001b[32m+\u001b[m\n",
      "   # Name for this pipeline configuration - useful for identification.\u001b[m\n",
      "   pipeline_name: cpac_preproc\u001b[m\n",
      " \u001b[m\n",
      "\u001b[32m+\u001b[m\u001b[32m  output_directory:\u001b[m\u001b[41m \u001b[m\n",
      "\u001b[32m+\u001b[m\n",
      "\u001b[32m+\u001b[m\u001b[32m    # Directory where C-PAC should write out processed data, logs, and crash reports.\u001b[m\n",
      "\u001b[32m+\u001b[m\u001b[32m    # - If running in a container (Singularity/Docker), you can simply set this to an arbitrary\u001b[m\n",
      "\u001b[32m+\u001b[m\u001b[32m    #   name like '/outputs', and then map (-B/-v) your desired output directory to that label.\u001b[m\n",
      "\u001b[32m+\u001b[m\u001b[32m    # - If running outside a container, this should be a full path to a directory.\u001b[m\n",
      "\u001b[32m+\u001b[m\u001b[32m    path: /output/output\u001b[m\n",
      "\u001b[32m+\u001b[m\n",
      "   working_directory: \u001b[m\n",
      "\u001b[32m+\u001b[m\n",
      "\u001b[32m+\u001b[m\u001b[32m    # Directory where C-PAC should store temporary and intermediate files.\u001b[m\n",
      "\u001b[32m+\u001b[m\u001b[32m    # - This directory must be saved if you wish to re-run your pipeline from where you left off (if not completed).\u001b[m\n",
      "\u001b[32m+\u001b[m\u001b[32m    # - NOTE: As it stores all intermediate files, this directory can grow to become very\u001b[m\n",
      "\u001b[32m+\u001b[m\u001b[32m    #   large, especially for data with a large amount of TRs.\u001b[m\n",
      "\u001b[32m+\u001b[m\u001b[32m    # - If running in a container (Singularity/Docker), you can simply set this to an arbitrary\u001b[m\n",
      "\u001b[32m+\u001b[m\u001b[32m    #   name like '/work', and then map (-B/-v) your desired output directory to that label.\u001b[m\n",
      "\u001b[32m+\u001b[m\u001b[32m    # - If running outside a container, this should be a full path to a directory.\u001b[m\n",
      "\u001b[32m+\u001b[m\u001b[32m    # - This can be written to '/tmp' if you do not intend to save your working directory.\u001b[m\n",
      "\u001b[32m+\u001b[m\u001b[32m    path: /output/working\u001b[m\n",
      "\u001b[32m+\u001b[m\n",
      "     # Deletes the contents of the Working Directory after running.\u001b[m\n",
      "     # This saves disk space, but any additional preprocessing or analysis will have to be completely re-run.\u001b[m\n",
      "     remove_working_dir: Off\u001b[m\n",
      " \u001b[m\n",
      "\u001b[32m+\u001b[m\u001b[32m  log_directory:\u001b[m\u001b[41m \u001b[m\n",
      "\u001b[32m+\u001b[m\n",
      "\u001b[32m+\u001b[m\u001b[32m    path: /output/log\u001b[m\n",
      "\u001b[32m+\u001b[m\n",
      "   system_config: \u001b[m\n",
      "\u001b[32m+\u001b[m\n",
      "     # Select Off if you intend to run CPAC on a single machine.\u001b[m\n",
      "     # If set to On, CPAC will attempt to submit jobs through the job scheduler / resource manager selected below.\u001b[m\n",
      "     on_grid: \u001b[m\n",
      "\u001b[32m+\u001b[m\n",
      "       SGE: \u001b[m\n",
      "\u001b[32m+\u001b[m\n",
      "         # SGE Parallel Environment to use when running CPAC.\u001b[m\n",
      "         # Only applies when you are running on a grid or compute cluster using SGE.\u001b[m\n",
      "         parallel_environment: cpac\u001b[m\n",
      "\u001b[36m@@ -35,63 +61,60 @@\u001b[m \u001b[mpipeline_setup:\u001b[m\n",
      "     # - Conversely, using too little RAM can impede the speed of a pipeline run.\u001b[m\n",
      "     # - It is recommended that you set this to a value that when multiplied by\u001b[m\n",
      "     #   'Number of Participants to Run Simultaneously' is as much RAM you can safely allocate.\u001b[m\n",
      "\u001b[31m-    maximum_memory_per_participant: 3\u001b[m\n",
      "\u001b[32m+\u001b[m\u001b[32m    maximum_memory_per_participant: 45.0\u001b[m\n",
      "\u001b[32m+\u001b[m\n",
      "\u001b[32m+\u001b[m\u001b[32m    # The maximum amount of cores (on a single machine) or slots on a node (on a cluster/grid)\u001b[m\n",
      "\u001b[32m+\u001b[m\u001b[32m    # to allocate per participant.\u001b[m\n",
      "\u001b[32m+\u001b[m\u001b[32m    # - Setting this above 1 will parallelize each participant's workflow where possible.\u001b[m\n",
      "\u001b[32m+\u001b[m\u001b[32m    #   If you wish to dedicate multiple cores to ANTS-based anatomical registration (below),\u001b[m\n",
      "\u001b[32m+\u001b[m\u001b[32m    #   this value must be equal or higher than the amount of cores provided to ANTS.\u001b[m\n",
      "\u001b[32m+\u001b[m\u001b[32m    # - The maximum number of cores your run can possibly employ will be this setting multiplied\u001b[m\n",
      "\u001b[32m+\u001b[m\u001b[32m    #   by the number of participants set to run in parallel (the 'Number of Participants to Run\u001b[m\n",
      "\u001b[32m+\u001b[m\u001b[32m    #   Simultaneously' setting).\u001b[m\n",
      "\u001b[32m+\u001b[m\u001b[32m    max_cores_per_participant: 30\u001b[m\n",
      "\u001b[32m+\u001b[m\n",
      "\u001b[32m+\u001b[m\u001b[32m    # The number of cores to allocate to ANTS-based anatomical registration per participant.\u001b[m\n",
      "\u001b[32m+\u001b[m\u001b[32m    # - Multiple cores can greatly speed up this preprocessing step.\u001b[m\n",
      "\u001b[32m+\u001b[m\u001b[32m    # - This number cannot be greater than the number of cores per participant.\u001b[m\n",
      "\u001b[32m+\u001b[m\u001b[32m    num_ants_threads: 15\u001b[m\n",
      " \u001b[m\n",
      "     # Full path to the FSL version to be used by CPAC.\u001b[m\n",
      "     # If you have specified an FSL path in your .bashrc file, this path will be set automatically.\u001b[m\n",
      "     FSLDIR: FSLDIR\u001b[m\n",
      " \u001b[m\n",
      "   Amazon-AWS: \u001b[m\n",
      "\u001b[32m+\u001b[m\n",
      "     # Enable server-side 256-AES encryption on data to the S3 bucket\u001b[m\n",
      "     s3_encryption: On\u001b[m\n",
      " \u001b[m\n",
      "\u001b[31m-anatomical_preproc: \u001b[m\n",
      "\u001b[31m-  # Non-local means filtering via ANTs DenoiseImage\u001b[m\n",
      "\u001b[31m-  non_local_means_filtering:\u001b[m\n",
      "\u001b[31m-    run: Off\u001b[m\n",
      "\u001b[31m-\u001b[m\n",
      "\u001b[31m-  # N4 bias field correction via ANTs\u001b[m\n",
      "\u001b[31m-  n4_bias_field_correction:\u001b[m\n",
      "\u001b[31m-    run: Off\u001b[m\n",
      "\u001b[31m-\u001b[m\n",
      " segmentation: \u001b[m\n",
      "\u001b[32m+\u001b[m\n",
      "   tissue_segmentation: \u001b[m\n",
      "\u001b[31m-    # option parameters\u001b[m\n",
      "\u001b[31m-    FSL-FAST: \u001b[m\n",
      "\u001b[31m-      use_priors: \u001b[m\n",
      "\u001b[31m-        # Full path to a directory containing binarized prior probability maps.\u001b[m\n",
      "\u001b[31m-        # These maps are included as part of the 'Image Resource Files' package available on the Install page of the User Guide.\u001b[m\n",
      "\u001b[31m-        # It is not necessary to change this path unless you intend to use non-standard priors.\u001b[m\n",
      "\u001b[31m-        priors_path: $FSLDIR/data/standard/tissuepriors/2mm\u001b[m\n",
      " \u001b[m\n",
      "     Template_Based: \u001b[m\n",
      "\u001b[32m+\u001b[m\n",
      "       # These masks should be in the same space of your registration template, e.g. if\u001b[m\n",
      "       # you choose 'EPI Template' , below tissue masks should also be EPI template tissue masks.\u001b[m\n",
      "       #\u001b[m\n",
      "       # Options: ['T1_Template', 'EPI_Template']\u001b[m\n",
      "       template_for_segmentation: []\u001b[m\n",
      " \u001b[m\n",
      "\u001b[31m-      # These masks are included as part of the 'Image Resource Files' package available\u001b[m\n",
      "\u001b[31m-      # on the Install page of the User Guide.\u001b[m\n",
      "\u001b[31m-\u001b[m\n",
      "\u001b[31m-      # Full path to a binarized White Matter mask.\u001b[m\n",
      "\u001b[31m-      WHITE: $FSLDIR/data/standard/tissuepriors/2mm/avg152T1_white_bin.nii.gz\u001b[m\n",
      "\u001b[31m-\u001b[m\n",
      "\u001b[31m-      # Full path to a binarized Gray Matter mask.\u001b[m\n",
      "\u001b[31m-      GRAY: $FSLDIR/data/standard/tissuepriors/2mm/avg152T1_gray_bin.nii.gz\u001b[m\n",
      "\u001b[31m-\u001b[m\n",
      "\u001b[31m-      # Full path to a binarized CSF mask.\u001b[m\n",
      "\u001b[31m-      CSF: $FSLDIR/data/standard/tissuepriors/2mm/avg152T1_csf_bin.nii.gz\u001b[m\n",
      "\u001b[31m-\u001b[m\n",
      " registration_workflows: \u001b[m\n",
      "\u001b[32m+\u001b[m\n",
      "   functional_registration: \u001b[m\n",
      "\u001b[32m+\u001b[m\n",
      "     EPI_registration: \u001b[m\n",
      "\u001b[32m+\u001b[m\n",
      "       ANTs: \u001b[m\n",
      "\u001b[32m+\u001b[m\n",
      "         # EPI registration configuration - synonymous with T1_registration\u001b[m\n",
      "         # parameters under anatomical registration above\u001b[m\n",
      "         parameters: \u001b[m\n",
      "\u001b[32m+\u001b[m\n",
      " nuisance_corrections: \u001b[m\n",
      "\u001b[32m+\u001b[m\n",
      "   2-nuisance_regression: \u001b[m\n",
      "\u001b[32m+\u001b[m\n",
      "     # Select which nuisance signal corrections to apply\u001b[m\n",
      "     Regressors: \u001b[m\n",
      "       - Bandpass:\u001b[m\n",
      "\u001b[36m@@ -141,62 +164,34 @@\u001b[m \u001b[mnuisance_corrections:\u001b[m\n",
      "           - WhiteMatter\u001b[m\n",
      "           - CerebrospinalFluid\u001b[m\n",
      " \u001b[m\n",
      "\u001b[31m-    # Standard Lateral Ventricles Binary Mask\u001b[m\n",
      "\u001b[31m-    # used in CSF mask refinement for CSF signal-related regressions\u001b[m\n",
      "\u001b[31m-    lateral_ventricles_mask: $FSLDIR/data/atlases/HarvardOxford/HarvardOxford-lateral-ventricles-thr25-2mm.nii.gz\u001b[m\n",
      "\u001b[31m-\u001b[m\n",
      " timeseries_extraction: \u001b[m\n",
      "\u001b[32m+\u001b[m\n",
      "   run: Off\u001b[m\n",
      " \u001b[m\n",
      "\u001b[31m-seed_based_correlation_analysis: \u001b[m\n",
      "   # SCA - Seed-Based Correlation Analysis\u001b[m\n",
      "   # For each extracted ROI Average time series, CPAC will generate a whole-brain correlation map.\u001b[m\n",
      "   # It should be noted that for a given seed/ROI, SCA maps for ROI Average time series will be the same.\u001b[m\n",
      "   run: Off\u001b[m\n",
      " \u001b[m\n",
      " amplitude_low_frequency_fluctuation: \u001b[m\n",
      "\u001b[32m+\u001b[m\n",
      "   # ALFF & f/ALFF\u001b[m\n",
      "\u001b[31m-  # Calculate Amplitude of Low Frequency Fluctuations (ALFF) and and fractional ALFF (f/ALFF) for all voxels.\u001b[m\n",
      "\u001b[32m+\u001b[m\u001b[32m  # Calculate Amplitude of Low Frequency Fluctuations (ALFF) and fractional ALFF (f/ALFF) for all voxels.\u001b[m\n",
      "   run: Off\u001b[m\n",
      " \u001b[m\n",
      " regional_homogeneity: \u001b[m\n",
      "\u001b[32m+\u001b[m\n",
      "   # ReHo\u001b[m\n",
      "   # Calculate Regional Homogeneity (ReHo) for all voxels.\u001b[m\n",
      "   run: Off\u001b[m\n",
      " \u001b[m\n",
      " voxel_mirrored_homotopic_connectivity: \u001b[m\n",
      "\u001b[32m+\u001b[m\n",
      "   # VMHC\u001b[m\n",
      "   # Calculate Voxel-mirrored Homotopic Connectivity (VMHC) for all voxels.\u001b[m\n",
      "   run: Off\u001b[m\n",
      " \u001b[m\n",
      "\u001b[31m-  symmetric_registration: \u001b[m\n",
      "\u001b[31m-    # Included as part of the 'Image Resource Files' package available on the Install page of the User Guide.\u001b[m\n",
      "\u001b[31m-    # It is not necessary to change this path unless you intend to use a non-standard symmetric template.\u001b[m\n",
      "\u001b[31m-    T1w_brain_template_symmetric: $FSLDIR/data/standard/MNI152_T1_${resolution_for_anat}_brain_symmetric.nii.gz\u001b[m\n",
      "\u001b[31m-\u001b[m\n",
      "\u001b[31m-    # A reference symmetric brain template for resampling\u001b[m\n",
      "\u001b[31m-    T1w_brain_template_symmetric_for_resample: $FSLDIR/data/standard/MNI152_T1_1mm_brain_symmetric.nii.gz\u001b[m\n",
      "\u001b[31m-\u001b[m\n",
      "\u001b[31m-    # Included as part of the 'Image Resource Files' package available on the Install page of the User Guide.\u001b[m\n",
      "\u001b[31m-    # It is not necessary to change this path unless you intend to use a non-standard symmetric template.\u001b[m\n",
      "\u001b[31m-    T1w_template_symmetric: $FSLDIR/data/standard/MNI152_T1_${resolution_for_anat}_symmetric.nii.gz\u001b[m\n",
      "\u001b[31m-\u001b[m\n",
      "\u001b[31m-    # A reference symmetric skull template for resampling\u001b[m\n",
      "\u001b[31m-    T1w_template_symmetric_for_resample: $FSLDIR/data/standard/MNI152_T1_1mm_symmetric.nii.gz\u001b[m\n",
      "\u001b[31m-\u001b[m\n",
      "\u001b[31m-    # Included as part of the 'Image Resource Files' package available on the Install page of the User Guide.\u001b[m\n",
      "\u001b[31m-    # It is not necessary to change this path unless you intend to use a non-standard symmetric template.\u001b[m\n",
      "\u001b[31m-    dilated_symmetric_brain_mask: $FSLDIR/data/standard/MNI152_T1_${resolution_for_anat}_brain_mask_symmetric_dil.nii.gz\u001b[m\n",
      "\u001b[31m-\u001b[m\n",
      "\u001b[31m-    # A reference symmetric brain mask template for resampling\u001b[m\n",
      "\u001b[31m-    dilated_symmetric_brain_mask_for_resample: $FSLDIR/data/standard/MNI152_T1_1mm_brain_mask_symmetric_dil.nii.gz\u001b[m\n",
      "\u001b[31m-\u001b[m\n",
      " network_centrality: \u001b[m\n",
      "\u001b[31m-  # Calculate Degree, Eigenvector Centrality, or Functional Connectivity Density.\u001b[m\n",
      "\u001b[31m-  run: Off\u001b[m\n",
      " \u001b[m\n",
      "\u001b[31m-# PACKAGE INTEGRATIONS\u001b[m\n",
      "\u001b[31m-# --------------------\u001b[m\n",
      "\u001b[31m-PyPEER: \u001b[m\n",
      "\u001b[31m-  # Template-space eye mask\u001b[m\n",
      "\u001b[31m-  eye_mask_path: $FSLDIR/data/standard/MNI152_T1_${func_resolution}_eye_mask.nii.gz\u001b[m\n",
      "\u001b[32m+\u001b[m\u001b[32m  # Calculate Degree, Eigenvector Centrality, or Functional Connectivity Density.\u001b[m\n",
      "\u001b[32m+\u001b[m\u001b[32m  run: Off\u001b[m\n",
      "\\ No newline at end of file\u001b[m\n"
     ]
    },
    {
     "ename": "",
     "evalue": "1",
     "output_type": "error",
     "traceback": []
    }
   ],
   "source": [
    "git diff --no-index ${outdir}/pipeline_config_preproc.yml \\\n",
    "    C-PAC_Derivatives/preproc/cpac_pipeline_config_2022-08-25T15-15-35Z_min.yml"
   ]
  },
  {
   "cell_type": "markdown",
   "metadata": {},
   "source": [
    "The differences between the base and modified configs are not too bad. Although some sections with differences give me pause, e.g. `symmetric_registration` and `segmentation`. I would be more at ease if the only differences were run-specific (e.g. paths, resource requirements).\n",
    "\n",
    "My guess is there is a work-in-progress update to the config (v1.8.4.dev) that was used to process these data but isn't on github yet."
   ]
  },
  {
   "cell_type": "markdown",
   "metadata": {},
   "source": [
    "#### Full pipeline config\n",
    "\n",
    "The file `cpac_pipeline_config_2022-08-25T15-15-35Z.yml` appears to be a more complete config. I guess it includes options that are implicit defaults in the minimal config. Indeed, `git diff` shows that almost all of the differences between the files are additions."
   ]
  },
  {
   "cell_type": "code",
   "execution_count": 18,
   "metadata": {},
   "outputs": [
    {
     "name": "stdout",
     "output_type": "stream",
     "text": [
      " ... cpac_pipeline_config_2022-08-25T15-15-35Z.yml} | 1481 \u001b[32m+++++++++++++++++++\u001b[m\u001b[31m-\u001b[m\n",
      " 1 file changed, 1480 insertions(+), 1 deletion(-)\n"
     ]
    },
    {
     "ename": "",
     "evalue": "1",
     "output_type": "error",
     "traceback": []
    }
   ],
   "source": [
    "git diff --no-index --stat \\\n",
    "    C-PAC_Derivatives/preproc/cpac_pipeline_config_2022-08-25T15-15-35Z_min.yml \\\n",
    "    C-PAC_Derivatives/preproc/cpac_pipeline_config_2022-08-25T15-15-35Z.yml"
   ]
  },
  {
   "cell_type": "markdown",
   "metadata": {},
   "source": [
    "### Logs\n",
    "\n",
    "Next we'll look at the `preproc/log` directory"
   ]
  },
  {
   "cell_type": "code",
   "execution_count": 19,
   "metadata": {},
   "outputs": [
    {
     "name": "stdout",
     "output_type": "stream",
     "text": [
      "C-PAC_Derivatives/preproc/log\n",
      "├── cpac_individual_timing_cpac_preproc.csv\n",
      "└── pipeline_cpac_preproc\n",
      "    └── sub-0025429_ses-1\n",
      "        ├── callback.log\n",
      "        ├── callback.log.html\n",
      "        ├── callback.log.resource_overusage.txt\n",
      "        ├── pypeline.log\n",
      "        ├── sub-0025429_ses-1_expectedOutputs.yml\n",
      "        └── subject_info_sub-0025429_ses-1.pkl\n",
      "\n",
      "2 directories, 7 files\n"
     ]
    }
   ],
   "source": [
    "tree C-PAC_Derivatives/preproc/log"
   ]
  },
  {
   "cell_type": "markdown",
   "metadata": {},
   "source": [
    "The `cpac_individual_timing_cpac_preproc.csv` file is a CSV containing summary timing and status for the processing run."
   ]
  },
  {
   "cell_type": "code",
   "execution_count": 20,
   "metadata": {},
   "outputs": [
    {
     "name": "stdout",
     "output_type": "stream",
     "text": [
      "Pipeline,Cores_Per_Subject,Simultaneous_Subjects,Number_of_Subjects,Start_Time,End_Time,Elapsed_Time_(minutes),Status\n",
      "cpac_preproc,30,1,1,2022-08-25_15:15:36,2022-08-25_16:12:56,57,Complete\n"
     ]
    }
   ],
   "source": [
    "cat C-PAC_Derivatives/preproc/log/cpac_individual_timing_cpac_preproc.csv"
   ]
  },
  {
   "cell_type": "markdown",
   "metadata": {},
   "source": [
    "Inside `log/pipeline_cpac_preproc/sub-0025429_ses-1` there is more detailed logging. The primary C-PAC log is `pypeline.log`, which contains logging events from [NiPype](https://nipype.readthedocs.io/en/latest/index.html)."
   ]
  },
  {
   "cell_type": "code",
   "execution_count": 21,
   "metadata": {},
   "outputs": [
    {
     "name": "stdout",
     "output_type": "stream",
     "text": [
      "220825-15:15:37,82 nipype.workflow INFO:\n",
      "\t \n",
      "    Run command: run /home/ubuntu /output participant --save_working_dir --skip_bids_validator --n_cpus 30 --mem_gb 45 --data_config_file /configs/data_config.yml --preconfig preproc --num_ants_threads 15 --participant_ndx 14\n",
      "\n",
      "    C-PAC version: 1.8.4\n",
      "\n",
      "    Copyright (C) 2022  C-PAC Developers.\n",
      "    \n",
      "    This program comes with ABSOLUTELY NO WARRANTY. This is free software,\n",
      "    and you are welcome to redistribute it under certain conditions. For\n",
      "    details, see https://fcp-indi.github.io/docs/v1.8.4/license or the COPYING and\n",
      "    COPYING.LESSER files included in the source code.\n",
      "\n",
      "    Setting maximum number of cores per participant to 30\n",
      "    Setting number of participants at once to 1\n",
      "    Setting OMP_NUM_THREADS to 1\n",
      "    Setting MKL_NUM_THREADS to 1\n",
      "    Setting ANTS/ITK thread usage to 15\n",
      "    Maximum potential number of cores that might be used during this run: 30\n",
      "\n",
      "\n",
      "220825-15:22:17,865 nipype.workflow INFO:\n",
      "\t Connecting pipeline blocks:\n",
      "\t - anatomical_init\n",
      "\t - freesurfer_preproc\n",
      "\t - acpc_align_head\n",
      "\t - non_local_means\n",
      "\t   - T1w\n",
      "\t     - desc-preproc_T1w\n",
      "\t       - desc-reorient_T1w\n",
      "...\n",
      "\t [Node] Setting-up \"cpac_sub-0025429_ses-1.sinker_space-template_desc-preproc-1_bold_182\" in \"/output/working/cpac_sub-0025429_ses-1/_scan_rest_run-1/sinker_space-template_desc-preproc-1_bold_182\".\n",
      "220825-16:12:51,954 nipype.workflow INFO:\n",
      "\t [Node] Running \"sinker_space-template_desc-preproc-1_bold_182\" (\"CPAC.utils.interfaces.datasink.DataSink\")\n",
      "220825-16:12:52,167 nipype.workflow INFO:\n",
      "\t [Node] Finished \"cpac_sub-0025429_ses-1.sinker_space-template_desc-preproc-1_bold_182\".\n",
      "220825-16:12:52,655 nipype.workflow INFO:\n",
      "\t [Node] Finished \"cpac_sub-0025429_ses-1.carpet_seg_220.carpet_plot\".\n",
      "220825-16:12:53,817 nipype.workflow INFO:\n",
      "\t [Job 369] Completed (cpac_sub-0025429_ses-1.carpet_seg_220.carpet_plot).\n",
      "220825-16:12:53,820 nipype.workflow INFO:\n",
      "\t [Job 345] Completed (cpac_sub-0025429_ses-1.sinker_space-template_desc-preproc-1_bold_182).\n",
      "220825-16:12:53,824 nipype.workflow INFO:\n",
      "\t [MultiProc] Running 0 tasks, and 0 jobs ready. Free memory (GB): 44.64/45.00, Free processors: 30/30.\n",
      "220825-16:12:53,824 nipype.workflow INFO:\n",
      "\t No tasks are being run, and no jobs can be submitted to the queue. Potential deadlock\n",
      "220825-16:12:56,641 nipype.workflow INFO:\n",
      "\t \n",
      "\n",
      "    End of subject workflow cpac_sub-0025429_ses-1\n",
      "\n",
      "    CPAC run complete:\n",
      "\n",
      "        Pipeline configuration: cpac_preproc\n",
      "        Subject workflow: cpac_sub-0025429_ses-1\n",
      "        Elapsed run time (minutes): 57.32573951482773\n",
      "        Timing information saved in /output/log/cpac_individual_timing_cpac_preproc.csv\n",
      "        System time of start:      2022-08-25 16:01:17\n",
      "        System time of completion: 2022-08-25 16:12:56\n",
      "        All expected outputs were generated\n",
      "\n"
     ]
    }
   ],
   "source": [
    "(head -n 30; echo \"...\"; tail -n 30) <  C-PAC_Derivatives/preproc/log/pipeline_cpac_preproc/sub-0025429_ses-1/pypeline.log"
   ]
  },
  {
   "cell_type": "markdown",
   "metadata": {},
   "source": [
    "The `callback.log` is a [JSON lines](https://jsonlines.org/) file containing timing and resource information for each processing step in the pipeline."
   ]
  },
  {
   "cell_type": "code",
   "execution_count": 22,
   "metadata": {},
   "outputs": [
    {
     "name": "stdout",
     "output_type": "stream",
     "text": [
      "{\"id\": \"cpac_sub-0025429_ses-1.carpet_seg_220.carpet_plot\", \"hash\": \"a8e140638ddeb11b90549c6ea64bdaae\", \"start\": \"2022-08-25T20:12:50.019635\", \"finish\": \"2022-08-25T20:12:52.652067\", \"runtime_threads\": 2, \"runtime_memory_gb\": 0.8076591494140625, \"estimated_memory_gb\": 4.0, \"num_threads\": 1}\n",
      "{\"id\": \"cpac_sub-0025429_ses-1.sinker_space-template_desc-preproc-1_bold_182\", \"hash\": \"34df9b23661ed143c3c4432921e74193\", \"start\": \"2022-08-25T20:12:51.955055\", \"finish\": \"2022-08-25T20:12:52.161116\", \"runtime_threads\": 0, \"runtime_memory_gb\": 0.2379608154296875, \"estimated_memory_gb\": 2.0, \"num_threads\": 1}\n"
     ]
    }
   ],
   "source": [
    "tail -n 2 C-PAC_Derivatives/preproc/log/pipeline_cpac_preproc/sub-0025429_ses-1/callback.log"
   ]
  },
  {
   "cell_type": "markdown",
   "metadata": {},
   "source": [
    "We can read it quickly using [pandas](https://pandas.pydata.org/) and check (what I assume is) the maximum memory used by a processing step.\n",
    "\n",
    "> **TODO**: find out what the columns actually mean.\n",
    "\n",
    "(Nb: I took some hints from [here](https://trstringer.com/python-in-shell-script/) for how to run python in bash.)"
   ]
  },
  {
   "cell_type": "code",
   "execution_count": 23,
   "metadata": {},
   "outputs": [
    {
     "name": "stdout",
     "output_type": "stream",
     "text": [
      "                                                     id  \\\n",
      "1015  cpac_sub-0025429_ses-1.carpet_seg_220.carpet_plot   \n",
      "1016  cpac_sub-0025429_ses-1.sinker_space-template_d...   \n",
      "\n",
      "                                  hash                       start  \\\n",
      "1015  a8e140638ddeb11b90549c6ea64bdaae  2022-08-25T20:12:50.019635   \n",
      "1016  34df9b23661ed143c3c4432921e74193  2022-08-25T20:12:51.955055   \n",
      "\n",
      "                          finish  runtime_threads  runtime_memory_gb  \\\n",
      "1015  2022-08-25T20:12:52.652067              2.0           0.807659   \n",
      "1016  2022-08-25T20:12:52.161116              0.0           0.237961   \n",
      "\n",
      "      estimated_memory_gb  num_threads  \n",
      "1015                  4.0          1.0  \n",
      "1016                  2.0          1.0  \n",
      "Shape: (1017, 8)\n",
      "Max mem: 4.549\n"
     ]
    }
   ],
   "source": [
    "callback_log=\"C-PAC_Derivatives/preproc/log/pipeline_cpac_preproc/sub-0025429_ses-1/callback.log\"\n",
    "\n",
    "cmd=$(cat <<EOF\n",
    "import pandas as pd\n",
    "pd.set_option('display.max_columns', None)\n",
    "df = pd.read_json(\"${callback_log}\", lines=True)\n",
    "print(df.tail(2))\n",
    "print(\"Shape:\", df.shape)\n",
    "print(f'Max mem: {df[\"runtime_memory_gb\"].max():.3f}')\n",
    "EOF\n",
    ")\n",
    "\n",
    "python -c \"$cmd\""
   ]
  },
  {
   "cell_type": "markdown",
   "metadata": {},
   "source": [
    "The `callback.log.html` file represents some of the same data in an html format.\n",
    "\n",
    "![callback html](../outputs/callback_screenshot.png)\n",
    "\n",
    "> **TODO**: what does this visualization mean?\n",
    "\n",
    "The `callback.log.resource_overusage.txt` shows which processing steps used more resources than expected. There were 4 total (out of 1017)."
   ]
  },
  {
   "cell_type": "code",
   "execution_count": 24,
   "metadata": {},
   "outputs": [
    {
     "name": "stdout",
     "output_type": "stream",
     "text": [
      "The following nodes used excessive resources:\n",
      "---------------------------------------------\n",
      "\n",
      "cpac_sub-0025429_ses-1\n",
      "  .nuisance_regressors_Regressor-2_136\n",
      "  .Functional_2mm_flirt\n",
      "      **memory_gb**\n",
      "        runtime > estimated\n",
      "        3.080265044921875 > 1.8138461538461539\n",
      "\n"
     ]
    }
   ],
   "source": [
    "head -n 10 C-PAC_Derivatives/preproc/log/pipeline_cpac_preproc/sub-0025429_ses-1/callback.log.resource_overusage.txt"
   ]
  },
  {
   "cell_type": "markdown",
   "metadata": {},
   "source": [
    "The `sub-0025429_ses-1_expectedOutputs.yml` file lists glob patterns for expected outputs. At the end of processing, C-PAC checks whether each expected output was indeed generated."
   ]
  },
  {
   "cell_type": "code",
   "execution_count": 25,
   "metadata": {},
   "outputs": [
    {
     "name": "stdout",
     "output_type": "stream",
     "text": [
      "anat:\n",
      "- desc-brain*_T1w\n",
      "- desc-preproc*_T1w\n",
      "- desc-reorient*_T1w\n",
      "- from-T1w*_to-template*_mode-image*_desc-linear*_xfm\n"
     ]
    }
   ],
   "source": [
    "head -n 5 C-PAC_Derivatives/preproc/log/pipeline_cpac_preproc/sub-0025429_ses-1/sub-0025429_ses-1_expectedOutputs.yml"
   ]
  },
  {
   "cell_type": "markdown",
   "metadata": {},
   "source": [
    "### Working\n",
    "\n",
    "The `working` directory contains scratch folders for each processing step and a copy of the S3 data in their original (deeply nested) directory structure."
   ]
  },
  {
   "cell_type": "code",
   "execution_count": 26,
   "metadata": {},
   "outputs": [
    {
     "name": "stdout",
     "output_type": "stream",
     "text": [
      "C-PAC_Derivatives/preproc/working\n",
      "├── cpac_sub-0025429_ses-1  [141 entries exceeds filelimit, not opening dir]\n",
      "└── fcp-indi\n",
      "    └── data\n",
      "        └── Projects\n",
      "            └── CORR\n",
      "                └── RawDataBIDS\n",
      "                    └── HNU_1\n",
      "                        └── sub-0025429\n",
      "                            └── ses-1\n",
      "                                ├── anat\n",
      "                                │   └── sub-0025429_ses-1_run-1_T1w.nii.gz\n",
      "                                └── func\n",
      "                                    └── sub-0025429_ses-1_task-rest_run-1_bold.nii.gz\n",
      "\n",
      "11 directories, 2 files\n"
     ]
    },
    {
     "ename": "",
     "evalue": "2",
     "output_type": "error",
     "traceback": []
    }
   ],
   "source": [
    "tree --filelimit 20 C-PAC_Derivatives/preproc/working"
   ]
  },
  {
   "cell_type": "markdown",
   "metadata": {},
   "source": [
    "### Outputs\n",
    "\n",
    "The `preproc/output` directory contains final outputs for the anatomical (`anat`) and functional (`func`) processing pipelines.\n",
    "\n",
    "Specific outputs for `anat` include:\n",
    "\n",
    "- brain-extracted structural T1 image\n",
    "- registration transforms between the subject's anatomical and standard template space\n",
    "- binary and probabilistic tissue segmentation masks\n",
    "\n",
    "Specific outputs for `func` include:\n",
    "\n",
    "- motion and SNR quality control data and figures\n",
    "- registration transforms between subject functional and subject anatomical space\n",
    "- estimated participant motion parameters\n",
    "- motion corrected and nuisance regressed functional volume series"
   ]
  },
  {
   "cell_type": "code",
   "execution_count": 27,
   "metadata": {
    "tags": []
   },
   "outputs": [
    {
     "name": "stdout",
     "output_type": "stream",
     "text": [
      "C-PAC_Derivatives/preproc/output\n",
      "└── cpac_cpac_preproc\n",
      "    └── sub-0025429_ses-1\n",
      "        ├── anat\n",
      "        │   ├── sub-0025429_ses-1_desc-brain_T1w.json\n",
      "        │   ├── sub-0025429_ses-1_desc-brain_T1w.nii.gz\n",
      "        │   ├── sub-0025429_ses-1_desc-preproc_T1w.json\n",
      "        │   ├── sub-0025429_ses-1_desc-preproc_T1w.nii.gz\n",
      "        │   ├── sub-0025429_ses-1_desc-reorient_T1w.json\n",
      "        │   ├── sub-0025429_ses-1_desc-reorient_T1w.nii.gz\n",
      "        │   ├── sub-0025429_ses-1_from-T1w_to-template_mode-image_desc-linear_xfm.json\n",
      "        │   ├── sub-0025429_ses-1_from-T1w_to-template_mode-image_desc-linear_xfm.nii.gz\n",
      "        │   ├── sub-0025429_ses-1_from-T1w_to-template_mode-image_desc-nonlinear_xfm.json\n",
      "        │   ├── sub-0025429_ses-1_from-T1w_to-template_mode-image_desc-nonlinear_xfm.nii.gz\n",
      "        │   ├── sub-0025429_ses-1_from-T1w_to-template_mode-image_xfm.json\n",
      "        │   ├── sub-0025429_ses-1_from-T1w_to-template_mode-image_xfm.nii.gz\n",
      "        │   ├── sub-0025429_ses-1_from-template_to-T1w_mode-image_desc-linear_xfm.json\n",
      "        │   ├── sub-0025429_ses-1_from-template_to-T1w_mode-image_desc-linear_xfm.nii.gz\n",
      "        │   ├── sub-0025429_ses-1_from-template_to-T1w_mode-image_desc-nonlinear_xfm.json\n",
      "        │   ├── sub-0025429_ses-1_from-template_to-T1w_mode-image_desc-nonlinear_xfm.nii.gz\n",
      "        │   ├── sub-0025429_ses-1_from-template_to-T1w_mode-image_xfm.json\n",
      "        │   ├── sub-0025429_ses-1_from-template_to-T1w_mode-image_xfm.nii.gz\n",
      "        │   ├── sub-0025429_ses-1_label-CSF_desc-preproc_mask.json\n",
      "        │   ├── sub-0025429_ses-1_label-CSF_desc-preproc_mask.nii.gz\n",
      "        │   ├── sub-0025429_ses-1_label-CSF_mask.json\n",
      "        │   ├── sub-0025429_ses-1_label-CSF_mask.nii.gz\n",
      "        │   ├── sub-0025429_ses-1_label-CSF_probseg.json\n",
      "        │   ├── sub-0025429_ses-1_label-CSF_probseg.nii.gz\n",
      "        │   ├── sub-0025429_ses-1_label-GM_desc-preproc_mask.json\n",
      "        │   ├── sub-0025429_ses-1_label-GM_desc-preproc_mask.nii.gz\n",
      "        │   ├── sub-0025429_ses-1_label-GM_mask.json\n",
      "        │   ├── sub-0025429_ses-1_label-GM_mask.nii.gz\n",
      "        │   ├── sub-0025429_ses-1_label-GM_probseg.json\n",
      "        │   ├── sub-0025429_ses-1_label-GM_probseg.nii.gz\n",
      "        │   ├── sub-0025429_ses-1_label-WM_desc-preproc_mask.json\n",
      "        │   ├── sub-0025429_ses-1_label-WM_desc-preproc_mask.nii.gz\n",
      "        │   ├── sub-0025429_ses-1_label-WM_mask.json\n",
      "        │   ├── sub-0025429_ses-1_label-WM_mask.nii.gz\n",
      "        │   ├── sub-0025429_ses-1_label-WM_probseg.json\n",
      "        │   ├── sub-0025429_ses-1_label-WM_probseg.nii.gz\n",
      "        │   ├── sub-0025429_ses-1_space-T1w_desc-brain_mask.json\n",
      "        │   ├── sub-0025429_ses-1_space-T1w_desc-brain_mask.nii.gz\n",
      "        │   ├── sub-0025429_ses-1_space-template_desc-brain_T1w.json\n",
      "        │   └── sub-0025429_ses-1_space-template_desc-brain_T1w.nii.gz\n",
      "        └── func\n",
      "            ├── sub-0025429_ses-1_task-rest_run-1_bold-snr-axial-qc.json\n",
      "            ├── sub-0025429_ses-1_task-rest_run-1_bold-snr-axial-qc.png\n",
      "            ├── sub-0025429_ses-1_task-rest_run-1_bold-snr-hist-qc.json\n",
      "            ├── sub-0025429_ses-1_task-rest_run-1_bold-snr-hist-qc.png\n",
      "            ├── sub-0025429_ses-1_task-rest_run-1_bold-snr-qc.json\n",
      "            ├── sub-0025429_ses-1_task-rest_run-1_bold-snr-qc.txt\n",
      "            ├── sub-0025429_ses-1_task-rest_run-1_bold-snr-sagittal-qc.json\n",
      "            ├── sub-0025429_ses-1_task-rest_run-1_bold-snr-sagittal-qc.png\n",
      "            ├── sub-0025429_ses-1_task-rest_run-1_desc-1_regressors.1D\n",
      "            ├── sub-0025429_ses-1_task-rest_run-1_desc-1_regressors.json\n",
      "            ├── sub-0025429_ses-1_task-rest_run-1_desc-2_regressors.1D\n",
      "            ├── sub-0025429_ses-1_task-rest_run-1_desc-2_regressors.json\n",
      "            ├── sub-0025429_ses-1_task-rest_run-1_desc-mean_bold.json\n",
      "            ├── sub-0025429_ses-1_task-rest_run-1_desc-mean_bold.nii.gz\n",
      "            ├── sub-0025429_ses-1_task-rest_run-1_desc-preproc-1_bold.json\n",
      "            ├── sub-0025429_ses-1_task-rest_run-1_desc-preproc-1_bold.nii.gz\n",
      "            ├── sub-0025429_ses-1_task-rest_run-1_desc-preproc-2_bold.json\n",
      "            ├── sub-0025429_ses-1_task-rest_run-1_desc-preproc-2_bold.nii.gz\n",
      "            ├── sub-0025429_ses-1_task-rest_run-1_dvars.1D\n",
      "            ├── sub-0025429_ses-1_task-rest_run-1_dvars.json\n",
      "            ├── sub-0025429_ses-1_task-rest_run-1_framewise-displacement-jenkinson-plot-qc.json\n",
      "            ├── sub-0025429_ses-1_task-rest_run-1_framewise-displacement-jenkinson-plot-qc.png\n",
      "            ├── sub-0025429_ses-1_task-rest_run-1_framewise-displacement-jenkinson.1D\n",
      "            ├── sub-0025429_ses-1_task-rest_run-1_framewise-displacement-jenkinson.json\n",
      "            ├── sub-0025429_ses-1_task-rest_run-1_framewise-displacement-power.1D\n",
      "            ├── sub-0025429_ses-1_task-rest_run-1_framewise-displacement-power.json\n",
      "            ├── sub-0025429_ses-1_task-rest_run-1_from-bold_to-T1w_mode-image_desc-linear_xfm.json\n",
      "            ├── sub-0025429_ses-1_task-rest_run-1_from-bold_to-T1w_mode-image_desc-linear_xfm.mat\n",
      "            ├── sub-0025429_ses-1_task-rest_run-1_from-bold_to-template_mode-image_xfm.json\n",
      "            ├── sub-0025429_ses-1_task-rest_run-1_from-bold_to-template_mode-image_xfm.nii.gz\n",
      "            ├── sub-0025429_ses-1_task-rest_run-1_from-template_to-bold_mode-image_xfm.json\n",
      "            ├── sub-0025429_ses-1_task-rest_run-1_from-template_to-bold_mode-image_xfm.nii.gz\n",
      "            ├── sub-0025429_ses-1_task-rest_run-1_max-displacement.1D\n",
      "            ├── sub-0025429_ses-1_task-rest_run-1_max-displacement.json\n",
      "            ├── sub-0025429_ses-1_task-rest_run-1_motion-params.json\n",
      "            ├── sub-0025429_ses-1_task-rest_run-1_motion-params.txt\n",
      "            ├── sub-0025429_ses-1_task-rest_run-1_movement-parameters-rot-qc.json\n",
      "            ├── sub-0025429_ses-1_task-rest_run-1_movement-parameters-rot-qc.png\n",
      "            ├── sub-0025429_ses-1_task-rest_run-1_movement-parameters-trans-qc.json\n",
      "            ├── sub-0025429_ses-1_task-rest_run-1_movement-parameters-trans-qc.png\n",
      "            ├── sub-0025429_ses-1_task-rest_run-1_movement-parameters.1D\n",
      "            ├── sub-0025429_ses-1_task-rest_run-1_movement-parameters.json\n",
      "            ├── sub-0025429_ses-1_task-rest_run-1_power-params.json\n",
      "            ├── sub-0025429_ses-1_task-rest_run-1_power-params.txt\n",
      "            ├── sub-0025429_ses-1_task-rest_run-1_space-T1w_desc-mean_bold.json\n",
      "            ├── sub-0025429_ses-1_task-rest_run-1_space-T1w_desc-mean_bold.nii.gz\n",
      "            ├── sub-0025429_ses-1_task-rest_run-1_space-bold_desc-brain_mask.json\n",
      "            ├── sub-0025429_ses-1_task-rest_run-1_space-bold_desc-brain_mask.nii.gz\n",
      "            ├── sub-0025429_ses-1_task-rest_run-1_space-template_desc-bold_mask.json\n",
      "            ├── sub-0025429_ses-1_task-rest_run-1_space-template_desc-bold_mask.nii.gz\n",
      "            ├── sub-0025429_ses-1_task-rest_run-1_space-template_desc-mean_bold.json\n",
      "            ├── sub-0025429_ses-1_task-rest_run-1_space-template_desc-mean_bold.nii.gz\n",
      "            ├── sub-0025429_ses-1_task-rest_run-1_space-template_desc-preproc-1_bold.json\n",
      "            ├── sub-0025429_ses-1_task-rest_run-1_space-template_desc-preproc-1_bold.nii.gz\n",
      "            ├── sub-0025429_ses-1_task-rest_run-1_space-template_desc-preproc-2_bold.json\n",
      "            ├── sub-0025429_ses-1_task-rest_run-1_space-template_desc-preproc-2_bold.nii.gz\n",
      "            ├── sub-0025429_ses-1_task-rest_run-1_space-template_res-derivative_desc-bold_mask.json\n",
      "            └── sub-0025429_ses-1_task-rest_run-1_space-template_res-derivative_desc-bold_mask.nii.gz\n",
      "\n",
      "4 directories, 98 files\n"
     ]
    }
   ],
   "source": [
    "tree C-PAC_Derivatives/preproc/output"
   ]
  },
  {
   "cell_type": "markdown",
   "metadata": {},
   "source": [
    "### `abcd-options`\n",
    "\n",
    "The `abcd-options` directory under `C-PAC_Derivatives` contains just the final outputs, i.e. derivatives, for HBN/sub-NDARAD481FXF_ses-1 using the [`abcd-options` pipeline](https://github.com/FCP-INDI/C-PAC/blob/main/CPAC/resources/configs/pipeline_config_abcd-options.yml), adapted from the [ABCD study](https://www.biorxiv.org/content/10.1101/2021.07.09.451638v1.full).\n",
    "\n",
    "A major difference between `abcd-options` and `preproc` is the inclusion of surface based processing. As a result, `abcd-options` derivatives include:\n",
    "\n",
    "- reconstructed meshes for the subject's pial and white matter surfaces\n",
    "- surface metrics such as thickness and curvature\n",
    "- [cortical surface parcellations](https://surfer.nmr.mgh.harvard.edu/fswiki/CorticalParcellation)\n",
    "- functional data mapped to HCP 32k \"fsLR\" surface space"
   ]
  },
  {
   "cell_type": "code",
   "execution_count": 28,
   "metadata": {},
   "outputs": [
    {
     "name": "stdout",
     "output_type": "stream",
     "text": [
      "C-PAC_Derivatives/abcd-options\n",
      "└── sub-NDARAD481FXF_ses-1\n",
      "    └── Derivatives\n",
      "        ├── anat\n",
      "        │   ├── sub-NDARAD481FXF_1_atlas-DesikanKilliany_space-fsLR_den-164k_dlabel.json\n",
      "        │   ├── sub-NDARAD481FXF_1_atlas-DesikanKilliany_space-fsLR_den-164k_dlabel.nii\n",
      "        │   ├── sub-NDARAD481FXF_1_atlas-DesikanKilliany_space-fsLR_den-32k_dlabel.json\n",
      "        │   ├── sub-NDARAD481FXF_1_atlas-DesikanKilliany_space-fsLR_den-32k_dlabel.nii\n",
      "        │   ├── sub-NDARAD481FXF_1_atlas-Destrieux_space-fsLR_den-164k_dlabel.json\n",
      "        │   ├── sub-NDARAD481FXF_1_atlas-Destrieux_space-fsLR_den-164k_dlabel.nii\n",
      "        │   ├── sub-NDARAD481FXF_1_atlas-Destrieux_space-fsLR_den-32k_dlabel.json\n",
      "        │   ├── sub-NDARAD481FXF_1_atlas-Destrieux_space-fsLR_den-32k_dlabel.nii\n",
      "        │   ├── sub-NDARAD481FXF_1_desc-brain_T1w.json\n",
      "        │   ├── sub-NDARAD481FXF_1_desc-brain_T1w.nii.gz\n",
      "        │   ├── sub-NDARAD481FXF_1_desc-preproc_T1w.json\n",
      "        │   ├── sub-NDARAD481FXF_1_desc-preproc_T1w.nii.gz\n",
      "        │   ├── sub-NDARAD481FXF_1_desc-reorient_T1w.json\n",
      "        │   ├── sub-NDARAD481FXF_1_desc-reorient_T1w.nii.gz\n",
      "        │   ├── sub-NDARAD481FXF_1_desc-restore-brain_T1w.json\n",
      "        │   ├── sub-NDARAD481FXF_1_desc-restore-brain_T1w.nii.gz\n",
      "        │   ├── sub-NDARAD481FXF_1_desc-restore_T1w.json\n",
      "        │   ├── sub-NDARAD481FXF_1_desc-restore_T1w.nii.gz\n",
      "        │   ├── sub-NDARAD481FXF_1_from-T1w_to-template_mode-image_desc-linear_xfm.json\n",
      "        │   ├── sub-NDARAD481FXF_1_from-T1w_to-template_mode-image_desc-linear_xfm.nii.gz\n",
      "        │   ├── sub-NDARAD481FXF_1_from-T1w_to-template_mode-image_desc-nonlinear_xfm.json\n",
      "        │   ├── sub-NDARAD481FXF_1_from-T1w_to-template_mode-image_desc-nonlinear_xfm.nii.gz\n",
      "        │   ├── sub-NDARAD481FXF_1_from-T1w_to-template_mode-image_xfm.json\n",
      "        │   ├── sub-NDARAD481FXF_1_from-T1w_to-template_mode-image_xfm.nii.gz\n",
      "        │   ├── sub-NDARAD481FXF_1_from-template_to-T1w_mode-image_desc-linear_xfm.json\n",
      "        │   ├── sub-NDARAD481FXF_1_from-template_to-T1w_mode-image_desc-linear_xfm.nii.gz\n",
      "        │   ├── sub-NDARAD481FXF_1_from-template_to-T1w_mode-image_desc-nonlinear_xfm.json\n",
      "        │   ├── sub-NDARAD481FXF_1_from-template_to-T1w_mode-image_desc-nonlinear_xfm.nii.gz\n",
      "        │   ├── sub-NDARAD481FXF_1_from-template_to-T1w_mode-image_xfm.json\n",
      "        │   ├── sub-NDARAD481FXF_1_from-template_to-T1w_mode-image_xfm.nii.gz\n",
      "        │   ├── sub-NDARAD481FXF_1_hemi-L_desc-surfaceMap_sulc.json\n",
      "        │   ├── sub-NDARAD481FXF_1_hemi-L_desc-surfaceMap_sulc.sulc\n",
      "        │   ├── sub-NDARAD481FXF_1_hemi-L_desc-surfaceMap_thickness.json\n",
      "        │   ├── sub-NDARAD481FXF_1_hemi-L_desc-surfaceMap_thickness.thickness\n",
      "        │   ├── sub-NDARAD481FXF_1_hemi-L_desc-surfaceMap_volume.json\n",
      "        │   ├── sub-NDARAD481FXF_1_hemi-L_desc-surfaceMap_volume.volume\n",
      "        │   ├── sub-NDARAD481FXF_1_hemi-L_desc-surfaceMesh_pial.json\n",
      "        │   ├── sub-NDARAD481FXF_1_hemi-L_desc-surfaceMesh_pial.pial\n",
      "        │   ├── sub-NDARAD481FXF_1_hemi-L_desc-surfaceMesh_smoothwm.json\n",
      "        │   ├── sub-NDARAD481FXF_1_hemi-L_desc-surfaceMesh_smoothwm.smoothwm\n",
      "        │   ├── sub-NDARAD481FXF_1_hemi-L_desc-surfaceMesh_sphere.json\n",
      "        │   ├── sub-NDARAD481FXF_1_hemi-L_desc-surfaceMesh_sphere.sphere\n",
      "        │   ├── sub-NDARAD481FXF_1_hemi-L_desc-surfaceMesh_white.json\n",
      "        │   ├── sub-NDARAD481FXF_1_hemi-L_desc-surfaceMesh_white.white\n",
      "        │   ├── sub-NDARAD481FXF_1_hemi-L_desc-surface_curv.curv\n",
      "        │   ├── sub-NDARAD481FXF_1_hemi-L_desc-surface_curv.json\n",
      "        │   ├── sub-NDARAD481FXF_1_hemi-R_desc-surfaceMap_sulc.json\n",
      "        │   ├── sub-NDARAD481FXF_1_hemi-R_desc-surfaceMap_sulc.sulc\n",
      "        │   ├── sub-NDARAD481FXF_1_hemi-R_desc-surfaceMap_thickness.json\n",
      "        │   ├── sub-NDARAD481FXF_1_hemi-R_desc-surfaceMap_thickness.thickness\n",
      "        │   ├── sub-NDARAD481FXF_1_hemi-R_desc-surfaceMap_volume.json\n",
      "        │   ├── sub-NDARAD481FXF_1_hemi-R_desc-surfaceMap_volume.volume\n",
      "        │   ├── sub-NDARAD481FXF_1_hemi-R_desc-surfaceMesh_pial.json\n",
      "        │   ├── sub-NDARAD481FXF_1_hemi-R_desc-surfaceMesh_pial.pial\n",
      "        │   ├── sub-NDARAD481FXF_1_hemi-R_desc-surfaceMesh_smoothwm.json\n",
      "        │   ├── sub-NDARAD481FXF_1_hemi-R_desc-surfaceMesh_smoothwm.smoothwm\n",
      "        │   ├── sub-NDARAD481FXF_1_hemi-R_desc-surfaceMesh_sphere.json\n",
      "        │   ├── sub-NDARAD481FXF_1_hemi-R_desc-surfaceMesh_sphere.sphere\n",
      "        │   ├── sub-NDARAD481FXF_1_hemi-R_desc-surfaceMesh_white.json\n",
      "        │   ├── sub-NDARAD481FXF_1_hemi-R_desc-surfaceMesh_white.white\n",
      "        │   ├── sub-NDARAD481FXF_1_hemi-R_desc-surface_curv.curv\n",
      "        │   ├── sub-NDARAD481FXF_1_hemi-R_desc-surface_curv.json\n",
      "        │   ├── sub-NDARAD481FXF_1_label-CSF_desc-preproc_mask.json\n",
      "        │   ├── sub-NDARAD481FXF_1_label-CSF_desc-preproc_mask.nii.gz\n",
      "        │   ├── sub-NDARAD481FXF_1_label-CSF_mask.json\n",
      "        │   ├── sub-NDARAD481FXF_1_label-CSF_mask.nii.gz\n",
      "        │   ├── sub-NDARAD481FXF_1_label-CSF_probseg.json\n",
      "        │   ├── sub-NDARAD481FXF_1_label-CSF_probseg.nii.gz\n",
      "        │   ├── sub-NDARAD481FXF_1_label-GM_desc-preproc_mask.json\n",
      "        │   ├── sub-NDARAD481FXF_1_label-GM_desc-preproc_mask.nii.gz\n",
      "        │   ├── sub-NDARAD481FXF_1_label-GM_mask.json\n",
      "        │   ├── sub-NDARAD481FXF_1_label-GM_mask.nii.gz\n",
      "        │   ├── sub-NDARAD481FXF_1_label-GM_probseg.json\n",
      "        │   ├── sub-NDARAD481FXF_1_label-GM_probseg.nii.gz\n",
      "        │   ├── sub-NDARAD481FXF_1_label-WM_desc-preproc_mask.json\n",
      "        │   ├── sub-NDARAD481FXF_1_label-WM_desc-preproc_mask.nii.gz\n",
      "        │   ├── sub-NDARAD481FXF_1_label-WM_mask.json\n",
      "        │   ├── sub-NDARAD481FXF_1_label-WM_mask.nii.gz\n",
      "        │   ├── sub-NDARAD481FXF_1_label-WM_probseg.json\n",
      "        │   ├── sub-NDARAD481FXF_1_label-WM_probseg.nii.gz\n",
      "        │   ├── sub-NDARAD481FXF_1_space-T1w_desc-brain_mask.json\n",
      "        │   ├── sub-NDARAD481FXF_1_space-T1w_desc-brain_mask.nii.gz\n",
      "        │   ├── sub-NDARAD481FXF_1_space-template_desc-T1w_mask.json\n",
      "        │   ├── sub-NDARAD481FXF_1_space-template_desc-T1w_mask.nii.gz\n",
      "        │   ├── sub-NDARAD481FXF_1_space-template_desc-brain_T1w.json\n",
      "        │   ├── sub-NDARAD481FXF_1_space-template_desc-brain_T1w.nii.gz\n",
      "        │   ├── sub-NDARAD481FXF_1_space-template_desc-head_T1w.json\n",
      "        │   ├── sub-NDARAD481FXF_1_space-template_desc-head_T1w.nii.gz\n",
      "        │   ├── sub-NDARAD481FXF_1_space-template_label-CSF_mask.json\n",
      "        │   ├── sub-NDARAD481FXF_1_space-template_label-CSF_mask.nii.gz\n",
      "        │   ├── sub-NDARAD481FXF_1_space-template_label-GM_mask.json\n",
      "        │   ├── sub-NDARAD481FXF_1_space-template_label-GM_mask.nii.gz\n",
      "        │   ├── sub-NDARAD481FXF_1_space-template_label-WM_mask.json\n",
      "        │   ├── sub-NDARAD481FXF_1_space-template_label-WM_mask.nii.gz\n",
      "        │   ├── sub-NDARAD481FXF_1_wmparc.json\n",
      "        │   └── sub-NDARAD481FXF_1_wmparc.mgz\n",
      "        └── func\n",
      "            ├── sub-NDARAD481FXF_1_task-task-rest_desc-mean_bold.json\n",
      "            ├── sub-NDARAD481FXF_1_task-task-rest_desc-mean_bold.nii.gz\n",
      "            ├── sub-NDARAD481FXF_1_task-task-rest_desc-preproc_bold.json\n",
      "            ├── sub-NDARAD481FXF_1_task-task-rest_desc-preproc_bold.nii.gz\n",
      "            ├── sub-NDARAD481FXF_1_task-task-rest_from-bold_to-T1w_mode-image_desc-linear_xfm.json\n",
      "            ├── sub-NDARAD481FXF_1_task-task-rest_from-bold_to-T1w_mode-image_desc-linear_xfm.mat\n",
      "            ├── sub-NDARAD481FXF_1_task-task-rest_from-bold_to-template_mode-image_xfm.json\n",
      "            ├── sub-NDARAD481FXF_1_task-task-rest_from-bold_to-template_mode-image_xfm.nii.gz\n",
      "            ├── sub-NDARAD481FXF_1_task-task-rest_from-template_to-bold_mode-image_xfm.json\n",
      "            ├── sub-NDARAD481FXF_1_task-task-rest_from-template_to-bold_mode-image_xfm.nii.gz\n",
      "            ├── sub-NDARAD481FXF_1_task-task-rest_max-displacement.json\n",
      "            ├── sub-NDARAD481FXF_1_task-task-rest_max-displacement.rms\n",
      "            ├── sub-NDARAD481FXF_1_task-task-rest_movement-parameters.1D\n",
      "            ├── sub-NDARAD481FXF_1_task-task-rest_movement-parameters.json\n",
      "            ├── sub-NDARAD481FXF_1_task-task-rest_rels-displacement.json\n",
      "            ├── sub-NDARAD481FXF_1_task-task-rest_rels-displacement.rms\n",
      "            ├── sub-NDARAD481FXF_1_task-task-rest_space-T1w_desc-mean_bold.json\n",
      "            ├── sub-NDARAD481FXF_1_task-task-rest_space-T1w_desc-mean_bold.nii.gz\n",
      "            ├── sub-NDARAD481FXF_1_task-task-rest_space-bold_desc-brain_mask.json\n",
      "            ├── sub-NDARAD481FXF_1_task-task-rest_space-bold_desc-brain_mask.nii.gz\n",
      "            ├── sub-NDARAD481FXF_1_task-task-rest_space-fsLR_den-32k_bold-dtseries.json\n",
      "            ├── sub-NDARAD481FXF_1_task-task-rest_space-fsLR_den-32k_bold-dtseries.nii\n",
      "            ├── sub-NDARAD481FXF_1_task-task-rest_space-template_desc-bold_mask.json\n",
      "            ├── sub-NDARAD481FXF_1_task-task-rest_space-template_desc-bold_mask.nii.gz\n",
      "            ├── sub-NDARAD481FXF_1_task-task-rest_space-template_desc-brain_bold.json\n",
      "            ├── sub-NDARAD481FXF_1_task-task-rest_space-template_desc-brain_bold.nii.gz\n",
      "            ├── sub-NDARAD481FXF_1_task-task-rest_space-template_desc-head_bold.json\n",
      "            ├── sub-NDARAD481FXF_1_task-task-rest_space-template_desc-head_bold.nii.gz\n",
      "            ├── sub-NDARAD481FXF_1_task-task-rest_space-template_desc-mean_bold.json\n",
      "            ├── sub-NDARAD481FXF_1_task-task-rest_space-template_desc-mean_bold.nii.gz\n",
      "            ├── sub-NDARAD481FXF_1_task-task-rest_space-template_desc-scout_bold.json\n",
      "            └── sub-NDARAD481FXF_1_task-task-rest_space-template_desc-scout_bold.nii.gz\n",
      "\n",
      "4 directories, 128 files\n"
     ]
    }
   ],
   "source": [
    "tree C-PAC_Derivatives/abcd-options"
   ]
  },
  {
   "cell_type": "code",
   "execution_count": null,
   "metadata": {},
   "outputs": [],
   "source": []
  }
 ],
 "metadata": {
  "kernelspec": {
   "display_name": "Bash",
   "language": "bash",
   "name": "bash"
  },
  "language_info": {
   "codemirror_mode": "shell",
   "file_extension": ".sh",
   "mimetype": "text/x-sh",
   "name": "bash"
  },
  "vscode": {
   "interpreter": {
    "hash": "37362435d1e26e9a226dc3945019f53223fd006fcf9b5992da9964a815761c31"
   }
  }
 },
 "nbformat": 4,
 "nbformat_minor": 4
}
